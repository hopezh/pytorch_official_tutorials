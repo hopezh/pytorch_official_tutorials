{
 "cells": [
  {
   "cell_type": "markdown",
   "metadata": {},
   "source": [
    "# Visualizing modeles, data, and training with TensorBoard"
   ]
  },
  {
   "cell_type": "markdown",
   "metadata": {},
   "source": [
    "In the 60 Minute Blitz, we show you how to load in data, feed it through a model we define as a subclass of nn.Module, train this model on training data, and test it on test data. To see what’s happening, we print out some statistics as the model is training to get a sense for whether training is progressing. However, we can do much better than that: PyTorch integrates with TensorBoard, a tool designed for visualizing the results of neural network training runs. This tutorial illustrates some of its functionality, using the Fashion-MNIST dataset which can be read into PyTorch using torchvision.datasets.\n",
    "\n",
    "In this tutorial, we’ll learn how to:\n",
    "\n",
    "1. Read in data and with appropriate transforms (nearly identical to the prior tutorial).\n",
    "2. Set up TensorBoard.\n",
    "3. Write to TensorBoard.\n",
    "4. Inspect a model architecture using TensorBoard.\n",
    "5. Use TensorBoard to create interactive versions of the visualizations we created in last tutorial, with less code\n",
    "\n",
    "Specifically, on point #5, we’ll see:\n",
    "\n",
    "- A couple of ways to inspect our training data\n",
    "- How to track our model’s performance as it trains\n",
    "- How to assess our model’s performance once it is trained.\n",
    "\n",
    "We’ll begin with similar boilerplate code as in the CIFAR-10 tutorial:"
   ]
  },
  {
   "cell_type": "code",
   "execution_count": null,
   "metadata": {},
   "outputs": [],
   "source": [
    "import matplotlib.pyplot as plt \r\n",
    "import numpy as np \r\n",
    "\r\n",
    "import torch\r\n",
    "import torchvision\r\n",
    "import torchvision.transforms as transforms \r\n",
    "\r\n",
    "import torch.nn as nn \r\n",
    "import torch.nn.functional as F \r\n",
    "import torch.optim as optim \r\n",
    "\r\n",
    "import tensorflow as tf\r\n",
    "import tensorboard as tb\r\n",
    "tf.io.gfile = tb.compat.tensorflow_stub.io.gfile\r\n",
    "# ref :\r\n",
    "# https://github.com/pytorch/pytorch/issues/47139#issuecomment-732925213\r\n",
    "\r\n",
    "# transforms \r\n",
    "transform = transforms.Compose(\r\n",
    "    [transforms.ToTensor(), \r\n",
    "     transforms.Normalize((0.5, ), (0.5, ))\r\n",
    "    ]\r\n",
    ")\r\n",
    "\r\n",
    "# daatasets \r\n",
    "trainset = torchvision.datasets.FashionMNIST(\r\n",
    "    './data', \r\n",
    "    download=True, \r\n",
    "    train=True, \r\n",
    "    transform=transform\r\n",
    ")\r\n",
    "\r\n",
    "testset = torchvision.datasets.FashionMNIST(\r\n",
    "    './data', \r\n",
    "    download=True, \r\n",
    "    train=False, \r\n",
    "    transform=transform\r\n",
    ")\r\n",
    "\r\n",
    "# dataloaders\r\n",
    "\r\n",
    "trainloader = torch.utils.data.DataLoader(\r\n",
    "    trainset, \r\n",
    "    batch_size=4, \r\n",
    "    shuffle=True, \r\n",
    "    num_workers=2\r\n",
    ")\r\n",
    "\r\n",
    "testloader = torch.utils.data.DataLoader(\r\n",
    "    testset, \r\n",
    "    batch_size=4, \r\n",
    "    shuffle=False, \r\n",
    "    num_workers=2\r\n",
    ")\r\n",
    "\r\n",
    "# constant for classes\r\n",
    "classes = ('T-shirt/top', 'Trouser', 'Pullover', 'Dress', 'Coat',\r\n",
    "        'Sandal', 'Shirt', 'Sneaker', 'Bag', 'Ankle Boot')\r\n",
    "\r\n",
    "# helper function to show an image\r\n",
    "# (used in the `plot_classes_preds` function below)\r\n",
    "def matplotlib_imshow(img, one_channel=False):\r\n",
    "    if one_channel:\r\n",
    "        img = img.mean(dim=0)\r\n",
    "    img = img / 2 + 0.5     # unnormalize\r\n",
    "    npimg = img.numpy()\r\n",
    "    if one_channel:\r\n",
    "        plt.imshow(npimg, cmap=\"Greys\")\r\n",
    "    else:\r\n",
    "        plt.imshow(np.transpose(npimg, (1, 2, 0)))"
   ]
  },
  {
   "cell_type": "markdown",
   "metadata": {},
   "source": [
    "We’ll define a similar model architecture from that tutorial, making only minor modifications to account for the fact that the images are now one channel instead of three and 28x28 instead of 32x32:"
   ]
  },
  {
   "cell_type": "code",
   "execution_count": null,
   "metadata": {},
   "outputs": [],
   "source": [
    "class Net(nn.Module):\n",
    "    def __init__(self):\n",
    "        super(Net, self).__init__()\n",
    "        self.conv1 = nn.Conv2d(1, 6, 5)\n",
    "        self.pool = nn.MaxPool2d(2, 2)\n",
    "        self.conv2 = nn.Conv2d(6, 16, 5)\n",
    "        self.fc1 = nn.Linear(16 * 4 * 4, 120)\n",
    "        self.fc2 = nn.Linear(120, 84)\n",
    "        self.fc3 = nn.Linear(84, 10)\n",
    "        \n",
    "    def forward(self, x):\n",
    "        x = self.pool(F.relu(self.conv1(x)))\n",
    "        x = self.pool(F.relu(self.conv2(x)))\n",
    "        x = x.view(-1, 16 * 4 * 4)\n",
    "        x = F.relu(self.fc1(x))\n",
    "        x = F.relu(self.fc2(x))\n",
    "        x = self.fc3(x)\n",
    "        return x\n",
    "\n",
    "net = Net()"
   ]
  },
  {
   "cell_type": "markdown",
   "metadata": {},
   "source": [
    "We’ll define the same optimizer and criterion from before:"
   ]
  },
  {
   "cell_type": "code",
   "execution_count": null,
   "metadata": {},
   "outputs": [],
   "source": [
    "criterion = nn.CrossEntropyLoss()\n",
    "optimizer = optim.SGD(net.parameters(), lr=0.001, momentum=0.9)"
   ]
  },
  {
   "cell_type": "markdown",
   "metadata": {},
   "source": [
    "## 1. TensorBoard setup\n",
    "\n",
    "Now we’ll set up TensorBoard, importing tensorboard from torch.utils and defining a SummaryWriter, our key object for writing information to TensorBoard."
   ]
  },
  {
   "cell_type": "code",
   "execution_count": null,
   "metadata": {},
   "outputs": [],
   "source": [
    "from torch.utils.tensorboard import SummaryWriter\n",
    "\n",
    "# defalt \"log_dir\" is \"runs\", but we'll be more specific here...\n",
    "# ... this line alone creates a runs/fashion_mnist_test_1 folder\n",
    "writer = SummaryWriter('runs/fashion_mnist_test_1')"
   ]
  },
  {
   "cell_type": "markdown",
   "metadata": {},
   "source": [
    "## 2. Writing to TensorBoard\n",
    "\n",
    "Now let’s write an image to our TensorBoard - specifically, a grid - using `make_grid`."
   ]
  },
  {
   "cell_type": "code",
   "execution_count": null,
   "metadata": {},
   "outputs": [],
   "source": [
    "# get some random training images\n",
    "dataiter = iter(trainloader)\n",
    "images, labels = dataiter.next()\n",
    "\n",
    "# create grid of images\n",
    "img_grid = torchvision.utils.make_grid(images)\n",
    "\n",
    "# show images\n",
    "matplotlib_imshow(img_grid, one_channel=True)\n",
    "\n",
    "# write to tensorboard\n",
    "writer.add_image('four_fashion_mnist_images', img_grid)"
   ]
  },
  {
   "cell_type": "markdown",
   "metadata": {},
   "source": [
    "## 3. Inspect the model using TensorBoard\r\n",
    "\r\n",
    "One of TensorBoard’s strengths is its ability to visualize complex model structures. Let’s visualize the model we built."
   ]
  },
  {
   "cell_type": "code",
   "execution_count": null,
   "metadata": {},
   "outputs": [],
   "source": [
    "writer.add_graph(net, images)\r\n",
    "writer.close()"
   ]
  },
  {
   "cell_type": "markdown",
   "metadata": {},
   "source": [
    "## 4. Adding a “Projector” to TensorBoard\r\n",
    "\r\n",
    "We can visualize the lower dimensional representation of higher dimensional data via the add_embedding method"
   ]
  },
  {
   "cell_type": "code",
   "execution_count": null,
   "metadata": {},
   "outputs": [],
   "source": [
    "# helper function\r\n",
    "def select_n_random(data, labels, n=100):\r\n",
    "    '''\r\n",
    "    Selects n random datapoints and their corresponding labels from a dataset\r\n",
    "    '''\r\n",
    "    assert len(data) == len(labels)\r\n",
    "\r\n",
    "    perm = torch.randperm(len(data))\r\n",
    "    return data[perm][:n], labels[perm][:n]\r\n",
    "\r\n",
    "# select random images and their target indices\r\n",
    "images, labels = select_n_random(trainset.data, trainset.targets)\r\n",
    "\r\n",
    "# get the class labels for each image\r\n",
    "class_labels = [classes[lab] for lab in labels]\r\n",
    "\r\n",
    "# log embeddings\r\n",
    "features = images.view(-1, 28 * 28)\r\n",
    "writer.add_embedding(features,\r\n",
    "                    metadata=class_labels,\r\n",
    "                    label_img=images.unsqueeze(1))\r\n",
    "writer.close()"
   ]
  },
  {
   "cell_type": "markdown",
   "metadata": {},
   "source": [
    "## 5. Tracking model training with TensorBoard\r\n",
    "\r\n",
    "In the previous example, we simply printed the model’s running loss every 2000 iterations. Now, we’ll instead log the running loss to TensorBoard, along with a view into the predictions the model is making via the plot_classes_preds function."
   ]
  },
  {
   "cell_type": "code",
   "execution_count": null,
   "metadata": {},
   "outputs": [],
   "source": [
    "# helper functions\r\n",
    "\r\n",
    "def images_to_probs(net, images):\r\n",
    "    '''\r\n",
    "    Generates predictions and corresponding probabilities from a trained\r\n",
    "    network and a list of images\r\n",
    "    '''\r\n",
    "    output = net(images)\r\n",
    "    # convert output probabilities to predicted class\r\n",
    "    _, preds_tensor = torch.max(output, 1)\r\n",
    "    preds = np.squeeze(preds_tensor.numpy())\r\n",
    "    return preds, [F.softmax(el, dim=0)[i].item() for i, el in zip(preds, output)]\r\n",
    "\r\n",
    "\r\n",
    "def plot_classes_preds(net, images, labels):\r\n",
    "    '''\r\n",
    "    Generates matplotlib Figure using a trained network, along with images\r\n",
    "    and labels from a batch, that shows the network's top prediction along\r\n",
    "    with its probability, alongside the actual label, coloring this\r\n",
    "    information based on whether the prediction was correct or not.\r\n",
    "    Uses the \"images_to_probs\" function.\r\n",
    "    '''\r\n",
    "    preds, probs = images_to_probs(net, images)\r\n",
    "    # plot the images in the batch, along with predicted and true labels\r\n",
    "    fig = plt.figure(figsize=(12, 48))\r\n",
    "    for idx in np.arange(4):\r\n",
    "        ax = fig.add_subplot(1, 4, idx+1, xticks=[], yticks=[])\r\n",
    "        matplotlib_imshow(images[idx], one_channel=True)\r\n",
    "        ax.set_title(\"{0}, {1:.1f}%\\n(label: {2})\".format(\r\n",
    "            classes[preds[idx]],\r\n",
    "            probs[idx] * 100.0,\r\n",
    "            classes[labels[idx]]),\r\n",
    "                    color=(\"green\" if preds[idx]==labels[idx].item() else \"red\"))\r\n",
    "    return fig"
   ]
  },
  {
   "cell_type": "markdown",
   "metadata": {},
   "source": [
    "Finally, let’s train the model using the same model training code from the prior tutorial, but writing results to TensorBoard every 1000 batches instead of printing to console; this is done using the add_scalar function.\r\n",
    "\r\n",
    "In addition, as we train, we’ll generate an image showing the model’s predictions vs. the actual results on the four images included in that batch."
   ]
  },
  {
   "cell_type": "code",
   "execution_count": null,
   "metadata": {},
   "outputs": [],
   "source": [
    "running_loss = 0.0\r\n",
    "for epoch in range(10):  # loop over the dataset multiple times\r\n",
    "\r\n",
    "    for i, data in enumerate(trainloader, 0):\r\n",
    "\r\n",
    "        # get the inputs; data is a list of [inputs, labels]\r\n",
    "        inputs, labels = data\r\n",
    "\r\n",
    "        # zero the parameter gradients\r\n",
    "        optimizer.zero_grad()\r\n",
    "\r\n",
    "        # forward + backward + optimize\r\n",
    "        outputs = net(inputs)\r\n",
    "        loss = criterion(outputs, labels)\r\n",
    "        loss.backward()\r\n",
    "        optimizer.step()\r\n",
    "\r\n",
    "        running_loss += loss.item()\r\n",
    "        if i % 1000 == 999:    # every 1000 mini-batches...\r\n",
    "\r\n",
    "            # ...log the running loss\r\n",
    "            writer.add_scalar('training loss',\r\n",
    "                            running_loss / 1000,\r\n",
    "                            epoch * len(trainloader) + i)\r\n",
    "\r\n",
    "            # ...log a Matplotlib Figure showing the model's predictions on a\r\n",
    "            # random mini-batch\r\n",
    "            writer.add_figure('predictions vs. actuals',\r\n",
    "                            plot_classes_preds(net, inputs, labels),\r\n",
    "                            global_step=epoch * len(trainloader) + i)\r\n",
    "            running_loss = 0.0\r\n",
    "print('Finished Training')"
   ]
  },
  {
   "cell_type": "markdown",
   "metadata": {},
   "source": [
    "## 6. Assessing trained models with TensorBoard"
   ]
  },
  {
   "cell_type": "code",
   "execution_count": null,
   "metadata": {},
   "outputs": [],
   "source": [
    "# 1. gets the probability predictions in a test_size x num_classes Tensor\r\n",
    "# 2. gets the preds in a test_size Tensor\r\n",
    "# takes ~10 seconds to run\r\n",
    "class_probs = []\r\n",
    "class_preds = []\r\n",
    "with torch.no_grad():\r\n",
    "    for data in testloader:\r\n",
    "        images, labels = data\r\n",
    "        output = net(images)\r\n",
    "        class_probs_batch = [F.softmax(el, dim=0) for el in output]\r\n",
    "        _, class_preds_batch = torch.max(output, 1)\r\n",
    "\r\n",
    "        class_probs.append(class_probs_batch)\r\n",
    "        class_preds.append(class_preds_batch)\r\n",
    "\r\n",
    "test_probs = torch.cat([torch.stack(batch) for batch in class_probs])\r\n",
    "test_preds = torch.cat(class_preds)\r\n",
    "\r\n",
    "# helper function\r\n",
    "def add_pr_curve_tensorboard(class_index, test_probs, test_preds, global_step=0):\r\n",
    "    '''\r\n",
    "    Takes in a \"class_index\" from 0 to 9 and plots the corresponding\r\n",
    "    precision-recall curve\r\n",
    "    '''\r\n",
    "    tensorboard_preds = test_preds == class_index\r\n",
    "    tensorboard_probs = test_probs[:, class_index]\r\n",
    "\r\n",
    "    writer.add_pr_curve(classes[class_index],\r\n",
    "                        tensorboard_preds,\r\n",
    "                        tensorboard_probs,\r\n",
    "                        global_step=global_step)\r\n",
    "    writer.close()\r\n",
    "\r\n",
    "# plot all the pr curves\r\n",
    "for i in range(len(classes)):\r\n",
    "    add_pr_curve_tensorboard(i, test_probs, test_preds)"
   ]
  }
 ],
 "metadata": {
  "kernelspec": {
   "display_name": "Python 3.7.3 64-bit",
   "metadata": {
    "interpreter": {
     "hash": "387113d4b1a9c42a8cb4530538cd848b6986eb80aa9df09bcc89681a898672cf"
    }
   },
   "name": "python3"
  },
  "language_info": {
   "codemirror_mode": {
    "name": "ipython",
    "version": 3
   },
   "file_extension": ".py",
   "mimetype": "text/x-python",
   "name": "python",
   "nbconvert_exporter": "python",
   "pygments_lexer": "ipython3",
   "version": "3.7.3"
  },
  "metadata": {
   "interpreter": {
    "hash": "3b58eb65e2b157964bfd82fefa8a21a22c2959bf748bcf6cc3e6d6c141e9bed0"
   }
  },
  "orig_nbformat": 2
 },
 "nbformat": 4,
 "nbformat_minor": 2
}