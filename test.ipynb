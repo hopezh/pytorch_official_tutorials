{
 "cells": [
  {
   "cell_type": "code",
   "execution_count": 1,
   "metadata": {},
   "outputs": [],
   "source": [
    "import torch"
   ]
  },
  {
   "cell_type": "code",
   "execution_count": 2,
   "metadata": {},
   "outputs": [
    {
     "name": "stdout",
     "output_type": "stream",
     "text": [
      "x: tensor([-0.6794, -0.2305], requires_grad=True)\n",
      "y: tensor([-0.5544,  0.3194], requires_grad=True)\n",
      "z: tensor([-0.6494,  2.5465], grad_fn=<AddBackward0>)\n"
     ]
    }
   ],
   "source": [
    "def exp_adder(x, y):\n",
    "    return 2 * x.exp() + 3 * y\n",
    "\n",
    "x = torch.randn(2, requires_grad=True)\n",
    "y = torch.randn(2, requires_grad=True)\n",
    "z = exp_adder(x, y)\n",
    "\n",
    "print('x:', x)\n",
    "print('y:', y)\n",
    "print('z:', z)"
   ]
  },
  {
   "cell_type": "code",
   "execution_count": 3,
   "metadata": {},
   "outputs": [
    {
     "name": "stdout",
     "output_type": "stream",
     "text": [
      "tensor([[1.0138, 0.0000],\n",
      "        [0.0000, 1.5883]])\n",
      "tensor([[3., 0.],\n",
      "        [0., 3.]])\n"
     ]
    }
   ],
   "source": [
    "J = torch.autograd.functional.jacobian(exp_adder, (x, y))\n",
    "print(J[0])\n",
    "print(J[1])"
   ]
  },
  {
   "cell_type": "code",
   "execution_count": 4,
   "metadata": {},
   "outputs": [
    {
     "name": "stdout",
     "output_type": "stream",
     "text": [
      "x_grad:  tensor([1.0138, 1.5883])\n",
      "y_grad:  tensor([3., 3.])\n"
     ]
    }
   ],
   "source": [
    "x_grad = torch.matmul(torch.transpose(J[0], 0, 1), torch.ones_like(z))\n",
    "y_grad = torch.matmul(torch.transpose(J[1], 0, 1), torch.ones_like(z))\n",
    "print('x_grad: ', x_grad)\n",
    "print('y_grad: ', y_grad) "
   ]
  },
  {
   "cell_type": "code",
   "execution_count": 5,
   "metadata": {},
   "outputs": [
    {
     "name": "stdout",
     "output_type": "stream",
     "text": [
      "x grad: tensor([1.0138, 1.5883])\n",
      "y grad: tensor([3., 3.])\n"
     ]
    }
   ],
   "source": [
    "z.backward(gradient=torch.ones_like(z))\n",
    "print('x grad:', x.grad)\n",
    "print('y grad:', y.grad)"
   ]
  },
  {
   "cell_type": "code",
   "execution_count": null,
   "metadata": {},
   "outputs": [],
   "source": []
  }
 ],
 "metadata": {
  "kernelspec": {
   "display_name": "Python 3.8.5 64-bit ('base': conda)",
   "name": "python385jvsc74a57bd03b58eb65e2b157964bfd82fefa8a21a22c2959bf748bcf6cc3e6d6c141e9bed0"
  },
  "language_info": {
   "codemirror_mode": {
    "name": "ipython",
    "version": 3
   },
   "file_extension": ".py",
   "mimetype": "text/x-python",
   "name": "python",
   "nbconvert_exporter": "python",
   "pygments_lexer": "ipython3",
   "version": "3.8.5"
  },
  "metadata": {
   "interpreter": {
    "hash": "3b58eb65e2b157964bfd82fefa8a21a22c2959bf748bcf6cc3e6d6c141e9bed0"
   }
  },
  "orig_nbformat": 2
 },
 "nbformat": 4,
 "nbformat_minor": 2
}